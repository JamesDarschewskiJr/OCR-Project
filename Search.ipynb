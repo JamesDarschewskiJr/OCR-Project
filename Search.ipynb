{
 "cells": [
  {
   "cell_type": "markdown",
   "metadata": {},
   "source": [
    "## Searchability\n",
    "\n",
    "##### This notebook was for looking into searchability of the models, which for the eDiscovery process is the main reason why we want to look into using generative AI."
   ]
  },
  {
   "cell_type": "code",
   "execution_count": 15,
   "metadata": {},
   "outputs": [],
   "source": [
    "import os\n",
    "import re\n",
    "import csv"
   ]
  },
  {
   "cell_type": "code",
   "execution_count": 32,
   "metadata": {},
   "outputs": [],
   "source": [
    "# Function to clean and tokenize text\n",
    "def clean_and_tokenize(text):\n",
    "    # Convert to lowercase, remove punctuation, and split into words\n",
    "    text = text.lower()\n",
    "    text = re.sub(r'[^\\w\\s]', '', text)  # Remove punctuation\n",
    "    words = text.split()\n",
    "    return words\n",
    "\n",
    "# Function to read text from a file\n",
    "def read_text_from_file(file_path):\n",
    "    with open(file_path, 'r', encoding='utf-8') as file:\n",
    "        text = file.read()\n",
    "    return text\n",
    "\n",
    "# Function to calculate missing and changed percentages\n",
    "def calculate_missing_and_changed_percentage(ground_truth_text, ocr_text):\n",
    "    # Tokenize both texts\n",
    "    ground_truth_words = clean_and_tokenize(ground_truth_text)\n",
    "    ocr_words = clean_and_tokenize(ocr_text)\n",
    "    \n",
    "    # Convert OCR text back to a single string for substring checks\n",
    "    ocr_text_string = ' '.join(ocr_words)\n",
    "    \n",
    "    # Find words in OCR text that are not in ground truth (initially missing words)\n",
    "    initially_missing_words = set(ground_truth_words) - set(ocr_words)\n",
    "    extra_words_in_ocr = set(ocr_words) - set(ground_truth_words)\n",
    "    changed_words = set()\n",
    "    \n",
    "    # Check if OCR text contains the missing words as substrings and move them to changed list if found\n",
    "    final_missing_words = set()\n",
    "    for word in initially_missing_words:\n",
    "        if word in ocr_text_string:\n",
    "            changed_words.add(word)\n",
    "        else:\n",
    "            final_missing_words.add(word)\n",
    "    \n",
    "    # Calculate the percentages\n",
    "    total_words_in_ground_truth = len(ground_truth_words)\n",
    "    missing_percentage = (len(extra_words_in_ocr) / total_words_in_ground_truth) * 100\n",
    "    if len(initially_missing_words) > 0:\n",
    "        changed_percentage = (len(changed_words) / len(initially_missing_words)) * 100\n",
    "    else:\n",
    "        changed_percentage = 0.0\n",
    "    \n",
    "    return missing_percentage, changed_percentage\n",
    "\n",
    "# Function to process directories and save results to CSV\n",
    "def process_directories_and_save_to_csv(ground_truth_dir, ocr_dir, csv_file_path):\n",
    "    results = []\n",
    "    \n",
    "    # Get list of files in both directories\n",
    "    ground_truth_files = os.listdir(ground_truth_dir)\n",
    "    ocr_files = os.listdir(ocr_dir)\n",
    "    \n",
    "    # Match files by name and calculate missing and changed percentages\n",
    "    for gt_file in ground_truth_files:\n",
    "        gt_file_path = os.path.join(ground_truth_dir, gt_file)\n",
    "        \n",
    "        # Find matching OCR file by name\n",
    "        if gt_file in ocr_files:\n",
    "            ocr_file_path = os.path.join(ocr_dir, gt_file)\n",
    "            \n",
    "            # Read the texts\n",
    "            ground_truth_text = read_text_from_file(gt_file_path)\n",
    "            ocr_text = read_text_from_file(ocr_file_path)\n",
    "            \n",
    "            # Calculate missing and changed percentages\n",
    "            missing_percentage, changed_percentage = calculate_missing_and_changed_percentage(ground_truth_text, ocr_text)\n",
    "            \n",
    "            # Save the result\n",
    "            results.append({\n",
    "                'Ground Truth File': gt_file_path,\n",
    "                'OCR File': ocr_file_path,\n",
    "                'Missing Percentage': f\"{missing_percentage:.2f}%\",\n",
    "                'Changed Percentage': f\"{changed_percentage:.2f}%\"\n",
    "            })\n",
    "    \n",
    "    # Save all results to CSV\n",
    "    with open(csv_file_path, 'w', newline='', encoding='utf-8') as csvfile:\n",
    "        fieldnames = ['Ground Truth File', 'OCR File', 'Missing Percentage', 'Changed Percentage']\n",
    "        writer = csv.DictWriter(csvfile, fieldnames=fieldnames)\n",
    "        \n",
    "        writer.writeheader()\n",
    "        for result in results:\n",
    "            writer.writerow(result)\n",
    "    \n",
    "    print(f\"Results saved to {csv_file_path}\")"
   ]
  },
  {
   "cell_type": "code",
   "execution_count": 34,
   "metadata": {},
   "outputs": [
    {
     "name": "stdout",
     "output_type": "stream",
     "text": [
      "Results saved to /home/darshewskijadmin@consilio.com/ExperimentalLLMs/Data/Tesseract_Searchability.csv\n"
     ]
    }
   ],
   "source": [
    "# Sample usage\n",
    "ground_truth_dir = \"/home/darshewskijadmin@consilio.com/ExperimentalLLMs/MobyDickTranscriptions/\"\n",
    "ocr_dir = \"/home/darshewskijadmin@consilio.com/ExperimentalLLMs/TestTesseractTranscriptions/\"\n",
    "csv_file_path = \"/home/darshewskijadmin@consilio.com/ExperimentalLLMs/Data/Tesseract_Searchability.csv\"\n",
    "\n",
    "process_directories_and_save_to_csv(ground_truth_dir, ocr_dir, csv_file_path)"
   ]
  }
 ],
 "metadata": {
  "kernelspec": {
   "display_name": "Python (my_project)",
   "language": "python",
   "name": "my_project_env"
  },
  "language_info": {
   "codemirror_mode": {
    "name": "ipython",
    "version": 3
   },
   "file_extension": ".py",
   "mimetype": "text/x-python",
   "name": "python",
   "nbconvert_exporter": "python",
   "pygments_lexer": "ipython3",
   "version": "3.10.12"
  }
 },
 "nbformat": 4,
 "nbformat_minor": 2
}
