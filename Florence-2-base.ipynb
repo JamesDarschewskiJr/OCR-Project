{
 "cells": [
  {
   "cell_type": "markdown",
   "metadata": {},
   "source": [
    "## Florence-2 Model"
   ]
  },
  {
   "cell_type": "code",
   "execution_count": 1,
   "metadata": {},
   "outputs": [],
   "source": [
    "import re\n",
    "from PIL import Image\n",
    "from transformers import AutoProcessor, AutoModelForCausalLM\n",
    "import torch\n",
    "import gc\n",
    "import os\n",
    "import time"
   ]
  },
  {
   "cell_type": "code",
   "execution_count": 3,
   "metadata": {},
   "outputs": [],
   "source": [
    "def clear_gpu_memory():\n",
    "    torch.cuda.empty_cache()\n",
    "    gc.collect()\n",
    "\n",
    "def natural_sort_key(s):\n",
    "    return [int(text) if text.isdigit() else text.lower() for text in re.split('(\\d+)', s)]\n",
    "\n",
    "def split_text(text):\n",
    "    sentences = re.split(r'(?<=[.!?]) +', text)\n",
    "    return \"\\n\".join(sentences)\n",
    "\n",
    "def run_florence2(image_dir, output_file):\n",
    "    device = torch.device(\"cuda:1\" if torch.cuda.is_available() else \"cpu\")\n",
    "    torch_dtype = torch.float16 if torch.cuda.is_available() else torch.float32\n",
    "\n",
    "    model_path = '/data/models/Florence-2-base'\n",
    "    model = AutoModelForCausalLM.from_pretrained(model_path, torch_dtype = torch_dtype, trust_remote_code = True).to(device)\n",
    "    processor = AutoProcessor.from_pretrained(model_path, trust_remote_code = True)\n",
    "\n",
    "    image_files = sorted((f for f in os.listdir(image_dir) if f.lower().endswith(('.png', '.jpg', '.jpeg', '.bmp', '.gif'))), key=natural_sort_key)\n",
    "\n",
    "    with open(output_file, 'w') as f:\n",
    "        for image_file in image_files:\n",
    "            image_path = image_dir + '/' + image_file\n",
    "\n",
    "            try:\n",
    "                image = Image.open(image_path)\n",
    "                prompt = \"<OCR>\"\n",
    "                inputs = processor(text = prompt, images = image, return_tensors = \"pt\").to(device, torch_dtype)\n",
    "\n",
    "                generated_ids = model.generate(\n",
    "                    input_ids = inputs[\"input_ids\"],\n",
    "                    pixel_values = inputs[\"pixel_values\"],\n",
    "                    max_new_tokens = 1024,\n",
    "                    do_sample = False,\n",
    "                    num_beams = 3,   \n",
    "                )\n",
    "\n",
    "                generated_text = processor.batch_decode(generated_ids, skip_special_tokens = True)[0]\n",
    "                readable_text = split_text(generated_text)\n",
    "                f.write(readable_text)\n",
    "\n",
    "            except RuntimeError as e:\n",
    "                if 'CUDA out of memory' in str(e):\n",
    "                    print(f\"RuntimeError: {e}\")\n",
    "                else:\n",
    "                    raise e"
   ]
  },
  {
   "cell_type": "code",
   "execution_count": 4,
   "metadata": {},
   "outputs": [
    {
     "name": "stderr",
     "output_type": "stream",
     "text": [
      "/home/darshewskijadmin@consilio.com/.cache/pypoetry/virtualenvs/llm-experimentation-IFbIb2Mw-py3.10/lib/python3.10/site-packages/transformers/tokenization_utils_base.py:1601: FutureWarning: `clean_up_tokenization_spaces` was not set. It will be set to `True` by default. This behavior will be depracted in transformers v4.45, and will be then set to `False` by default. For more details check this issue: https://github.com/huggingface/transformers/issues/31884\n",
      "  warnings.warn(\n"
     ]
    },
    {
     "name": "stdout",
     "output_type": "stream",
     "text": [
      "4193.674163341522\n"
     ]
    }
   ],
   "source": [
    "start_time = time.time()\n",
    "\n",
    "for f in os.listdir('/home/darshewskijadmin@consilio.com/ExperimentalLLMs/LowResolutionMobyDickImages/'):\n",
    "    image_directory = '/home/darshewskijadmin@consilio.com/ExperimentalLLMs/LowResolutionMobyDickImages/' + f + '/'\n",
    "    output_file = '/home/darshewskijadmin@consilio.com/ExperimentalLLMs/TestFlorence2Transcriptions/' + f + '.txt'\n",
    "    run_florence2(image_directory, output_file)    \n",
    "\n",
    "end_time = time.time()\n",
    "duration = end_time - start_time\n",
    "print(duration)"
   ]
  }
 ],
 "metadata": {
  "kernelspec": {
   "display_name": "Python (my_project)",
   "language": "python",
   "name": "my_project_env"
  },
  "language_info": {
   "codemirror_mode": {
    "name": "ipython",
    "version": 3
   },
   "file_extension": ".py",
   "mimetype": "text/x-python",
   "name": "python",
   "nbconvert_exporter": "python",
   "pygments_lexer": "ipython3",
   "version": "3.10.12"
  }
 },
 "nbformat": 4,
 "nbformat_minor": 2
}
