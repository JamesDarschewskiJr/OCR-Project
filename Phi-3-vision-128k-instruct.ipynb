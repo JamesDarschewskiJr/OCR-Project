{
 "cells": [
  {
   "cell_type": "markdown",
   "metadata": {},
   "source": [
    "## Phi-3-Vision Model\n",
    "\n",
    "##### For vision language model serving and inference I utilized vLLM locally and ran this command in a shell environment to start: vllm serve microsoft/Phi-3.5-vision-instruct --tensor-parallel-size=2 --disable-log-stats --disable-log-requests --trust-remote-code --max-model-len 12000"
   ]
  },
  {
   "cell_type": "code",
   "execution_count": null,
   "metadata": {},
   "outputs": [],
   "source": [
    "import torch\n",
    "import gc\n",
    "from openai import OpenAI\n",
    "import base64\n",
    "import re\n",
    "import os\n",
    "import time"
   ]
  },
  {
   "cell_type": "code",
   "execution_count": null,
   "metadata": {},
   "outputs": [],
   "source": [
    "def clear_gpu_memory():\n",
    "    torch.cuda.empty_cache()\n",
    "    gc.collect()\n",
    "\n",
    "def natural_sort_key(s):\n",
    "    return [int(text) if text.isdigit() else text.lower() for text in re.split('(\\d+)', s)]\n",
    "\n",
    "def encode_image_base64(image_path: str) -> str:\n",
    "    with open(image_path, \"rb\") as image_file:\n",
    "        encoded_string = base64.b64encode(image_file.read()).decode(\"utf-8\")\n",
    "    return encoded_string\n",
    "\n",
    "def run_phi3v(image_dir, output_file):\n",
    "    clear_gpu_memory()\n",
    "\n",
    "    image_files = sorted((f for f in os.listdir(image_dir) if f.lower().endswith(('.png', '.jpg', '.jpeg', '.bmp', '.gif'))), key = natural_sort_key)\n",
    "\n",
    "    with open(output_file, 'w') as f:\n",
    "        for image_file in image_files:\n",
    "            i = image_dir + image_file\n",
    "            image = encode_image_base64(i)\n",
    "            openai_api_key = \"EMPTY\"\n",
    "            openai_api_base = \"http://localhost:8000/v1\"\n",
    "            client = OpenAI(api_key=openai_api_key,base_url=openai_api_base,)\n",
    "            chat_response = client.chat.completions.create(\n",
    "                model = \"microsoft/Phi-3-vision-128k-instruct\", \n",
    "                messages = [{\n",
    "                    \"role\": \"user\",\n",
    "                    \"content\": [\n",
    "                        {\"type\": \"text\", \"text\": \"\"\"<|system|>ROLE: Expert image analyst, capable of extracting text from images\n",
    "                                                    TASK: Please extract all the text from the following image. The image contains various types of printed text. \n",
    "                                                    You must follow these Steps to extract and format the text: \n",
    "                                                    Step 1: Extracting\n",
    "                                                    Extract the text from the image in the order in which it is designed to be read. \n",
    "                                                    Step 2: Formatting\n",
    "                                                    Arrange the text into clean, easily readable blocks of text.<|end|>\n",
    "                                                    <|user|>Can you please extract all the text from the following image?<|image_1|><|end|>\\n<|assistant|>\\n\"\"\"\n",
    "                        },\n",
    "                        {\n",
    "                            \"type\": \"image_url\",\n",
    "                            \"image_url\": {\n",
    "                                \"url\": f\"data:image/jpeg;base64,{image}\"\n",
    "                            }\n",
    "                        }\n",
    "                    ]\n",
    "                }],\n",
    "            )\n",
    "            \n",
    "            f.write(chat_response.choices[0].message.content)"
   ]
  },
  {
   "cell_type": "code",
   "execution_count": null,
   "metadata": {},
   "outputs": [],
   "source": [
    "start_time = time.time()\n",
    "\n",
    "for f in os.listdir('/home/darshewskijadmin@consilio.com/ExperimentalLLMs/LowResolutionMobyDickImages/'):\n",
    "    image_directory = '/home/darshewskijadmin@consilio.com/ExperimentalLLMs/LowResolutionMobyDickImages/' + f + '/'\n",
    "    output_file = '/home/darshewskijadmin@consilio.com/ExperimentalLLMs/TestPhi3VTranscriptions/' + f + '.txt'\n",
    "    run_phi3v(image_directory, output_file)    \n",
    "\n",
    "end_time = time.time()\n",
    "duration = end_time - start_time\n",
    "print(duration)"
   ]
  }
 ],
 "metadata": {
  "kernelspec": {
   "display_name": "Python (my_project)",
   "language": "python",
   "name": "my_project_env"
  },
  "language_info": {
   "codemirror_mode": {
    "name": "ipython",
    "version": 3
   },
   "file_extension": ".py",
   "mimetype": "text/x-python",
   "name": "python",
   "nbconvert_exporter": "python",
   "pygments_lexer": "ipython3",
   "version": "3.10.12"
  }
 },
 "nbformat": 4,
 "nbformat_minor": 2
}
