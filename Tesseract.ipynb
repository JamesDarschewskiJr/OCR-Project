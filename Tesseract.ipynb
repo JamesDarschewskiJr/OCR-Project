{
 "cells": [
  {
   "cell_type": "markdown",
   "metadata": {},
   "source": [
    "## Tesseract Benchmark Code"
   ]
  },
  {
   "cell_type": "code",
   "execution_count": 1,
   "metadata": {},
   "outputs": [],
   "source": [
    "import os\n",
    "import pytesseract\n",
    "from PIL import Image\n",
    "from pdf2image import convert_from_path\n",
    "import time"
   ]
  },
  {
   "cell_type": "code",
   "execution_count": 2,
   "metadata": {},
   "outputs": [],
   "source": [
    "pytesseract.pytesseract.tesseract_cmd = r'/usr/bin/tesseract'"
   ]
  },
  {
   "cell_type": "code",
   "execution_count": 3,
   "metadata": {},
   "outputs": [],
   "source": [
    "def ocr_image(image_path):\n",
    "    # Open an image file\n",
    "    with Image.open(image_path) as img:\n",
    "        # Use Tesseract to do OCR on the image\n",
    "        text = pytesseract.image_to_string(img)\n",
    "    return text\n",
    "\n",
    "def ocr_pdf(pdf_path, output_dir):\n",
    "    # Convert PDF to a list of image files\n",
    "    images = convert_from_path(pdf_path)\n",
    "    text_output = \"\"\n",
    "    \n",
    "    # OCR each image\n",
    "    for i, image in enumerate(images):\n",
    "        image_path = os.path.join(output_dir, f\"page_{i+1}.png\")\n",
    "        image.save(image_path, 'PNG')\n",
    "        \n",
    "        # Perform OCR on the image\n",
    "        text = ocr_image(image_path)\n",
    "        text_output += text + \"\\n\\n\"\n",
    "        \n",
    "        # Optionally, remove the image file after OCR\n",
    "        os.remove(image_path)\n",
    "    \n",
    "    return text_output\n",
    "\n",
    "def main(input_path, output_file):\n",
    "    # Determine the type of the input file\n",
    "    if input_path.lower().endswith(('.png', '.jpg', '.jpeg', '.tiff')):\n",
    "        # Single image file\n",
    "        text = ocr_image(input_path)\n",
    "    elif input_path.lower().endswith('.pdf'):\n",
    "        # PDF file\n",
    "        output_dir = os.path.dirname(output_file)\n",
    "        text = ocr_pdf(input_path, output_dir)\n",
    "    else:\n",
    "        raise ValueError(\"Unsupported file type. Please provide a PDF or an image file.\")\n",
    "    \n",
    "    # Save the text output to a file\n",
    "    with open(output_file, 'w') as f:\n",
    "        f.write(text)"
   ]
  },
  {
   "cell_type": "code",
   "execution_count": null,
   "metadata": {},
   "outputs": [],
   "source": [
    "start_time = time.time()\n",
    "\n",
    "for f in os.listdir('/home/darshewskijadmin@consilio.com/ExperimentalLLMs/LowResolutionMobyDick'):\n",
    "    input_path = '/home/darshewskijadmin@consilio.com/ExperimentalLLMs/LowResolutionMobyDick/' + f\n",
    "    name, ext = os.path.splitext(f)\n",
    "    output_file = '/home/darshewskijadmin@consilio.com/ExperimentalLLMs/TestTesseractTranscriptions/' + name + '.txt'\n",
    "    main(input_path, output_file)  \n",
    "\n",
    "end_time = time.time()\n",
    "duration = end_time - start_time\n",
    "print(duration)"
   ]
  }
 ],
 "metadata": {
  "kernelspec": {
   "display_name": "Python (my_project)",
   "language": "python",
   "name": "my_project_env"
  },
  "language_info": {
   "codemirror_mode": {
    "name": "ipython",
    "version": 3
   },
   "file_extension": ".py",
   "mimetype": "text/x-python",
   "name": "python",
   "nbconvert_exporter": "python",
   "pygments_lexer": "ipython3",
   "version": "3.10.12"
  }
 },
 "nbformat": 4,
 "nbformat_minor": 2
}
