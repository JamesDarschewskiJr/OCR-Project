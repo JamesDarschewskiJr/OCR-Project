{
 "cells": [
  {
   "cell_type": "markdown",
   "metadata": {},
   "source": [
    "## Transcription Comparison\n",
    "\n",
    "##### This notebook was for looking at different OCR outputs and seeing where they differed."
   ]
  },
  {
   "cell_type": "code",
   "execution_count": 27,
   "metadata": {},
   "outputs": [
    {
     "name": "stdout",
     "output_type": "stream",
     "text": [
      "Mismatch found at position 3: 'NEXT' != 'Next'\n",
      "Mismatch found at position 81: 'accompanied' != 'companied'\n",
      "Mismatch found at position 252: 'like' != 'hike'\n",
      "Mismatch found at position 433: 'calabash' != 'ealabash'\n",
      "Mismatch found at position 599: 'opens' != 'opeus'\n",
      "Mismatch found at position 658: 'house' != 'house~'\n",
      "Mismatch found at position 670: 'bowl' != 'bow]'\n",
      "Mismatch found at position 685: 'think' != 'tink'\n",
      "Mismatch found at position 691: 'jaugh' != 'laugh'\n",
      "Mismatch found at position 734: 'Huge' != 'Ifuge'\n",
      "Mismatch found at position 758: 'lays' != 'lay'\n",
      "Mismatch found at position 861: 'I' != 'J'\n",
      "Mismatch found at position 945: 'bows' != 'brows'\n",
      "Mismatch found at position 1381: 'seemed' != 'scemed'\n",
      "Mismatch found at position 1427: 'confusion' != 'consternation'\n",
      "Mismatch found at position 1430: 'lightly' != 'deftly'\n",
      "Mismatch found at position 1438: '(' != 'under'\n",
      "Mismatch found at position 1439: 'and' != 'the'\n",
      "Mismatch found at position 1440: 'sample' != 'path'\n",
      "Mismatch found at position 1441: '=' != 'of'\n",
      "The files match completely.\n"
     ]
    }
   ],
   "source": [
    "def remove_selected_punctuation(text):\n",
    "    # Define the punctuation to remove\n",
    "    punctuation_to_remove = '.,:;-\\\"\\''\n",
    "    return text.translate(str.maketrans('', '', punctuation_to_remove))\n",
    "\n",
    "def compare_text_files(file1_path, file2_path):\n",
    "    try:\n",
    "        # Read the contents of the files\n",
    "        with open(file1_path, 'r') as file1:\n",
    "            content1 = file1.read()\n",
    "\n",
    "        with open(file2_path, 'r') as file2:\n",
    "            content2 = file2.read()\n",
    "\n",
    "        # Remove selected punctuation from the content\n",
    "        content1 = remove_selected_punctuation(content1)\n",
    "        content2 = remove_selected_punctuation(content2)\n",
    "\n",
    "        # Split the content by spaces into lists of words\n",
    "        words1 = content1.split()\n",
    "        words2 = content2.split()\n",
    "\n",
    "        # Iterate through both lists and compare word by word\n",
    "        for index, (word1, word2) in enumerate(zip(words1, words2)):\n",
    "            if word1 != word2:\n",
    "                print(f\"Mismatch found at position {index}: '{word1}' != '{word2}'\")\n",
    "        else:\n",
    "            print(\"The files match completely.\")\n",
    "\n",
    "    except FileNotFoundError as e:\n",
    "        print(f\"Error: {e}\")\n",
    "\n",
    "# Example usage\n",
    "file1_path = '/home/darshewskijadmin@consilio.com/ExperimentalLLMs/test/Chapter13Phi.txt'\n",
    "file2_path = '/home/darshewskijadmin@consilio.com/ExperimentalLLMs/test/Chapter13Tesseract.txt'\n",
    "compare_text_files(file1_path, file2_path)\n"
   ]
  }
 ],
 "metadata": {
  "kernelspec": {
   "display_name": ".venv",
   "language": "python",
   "name": "python3"
  },
  "language_info": {
   "codemirror_mode": {
    "name": "ipython",
    "version": 3
   },
   "file_extension": ".py",
   "mimetype": "text/x-python",
   "name": "python",
   "nbconvert_exporter": "python",
   "pygments_lexer": "ipython3",
   "version": "3.10.12"
  }
 },
 "nbformat": 4,
 "nbformat_minor": 2
}
